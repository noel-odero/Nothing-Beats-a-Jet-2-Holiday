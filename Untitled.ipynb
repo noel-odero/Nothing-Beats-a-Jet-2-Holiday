{
 "cells": [
  {
   "cell_type": "code",
   "execution_count": null,
   "id": "2c71bc0d-bb9f-4ea2-8fe5-b83ff62b71ff",
   "metadata": {},
   "outputs": [],
   "source": [
    "import pandas as pd\n",
    "import matplotlib.pyplot as plt\n",
    "\n",
    "# Load dataset (adjust path if needed)\n",
    "df = pd.read_csv(\"fuel_econ.csv\")\n",
    "\n",
    "# 1. Find max value of ghgscore\n",
    "max_ghgscore = df['ghgscore'].max()\n",
    "print(f\"Maximum GHG Score: {max_ghgscore}\")\n",
    "\n",
    "# 2. Filter rows where ghgscore > half the max\n",
    "filtered_df = df[df['ghgscore'] > (max_ghgscore / 2)]\n",
    "\n",
    "# 3. Create a plot (bar plot of models vs ghgscore)\n",
    "plt.figure(figsize=(12, 6))\n",
    "filtered_df_sorted = filtered_df.sort_values(by=\"ghgscore\", ascending=False)\n",
    "\n",
    "plt.bar(filtered_df_sorted['model'], filtered_df_sorted['ghgscore'])\n",
    "plt.xticks(rotation=90)\n",
    "plt.xlabel(\"Car Model\")\n",
    "plt.ylabel(\"GHG Score\")\n",
    "plt.title(f\"Models with GHG Score > {max_ghgscore / 2}\")\n",
    "plt.tight_layout()\n",
    "plt.show()\n"
   ]
  }
 ],
 "metadata": {
  "kernelspec": {
   "display_name": "Python 3 (ipykernel)",
   "language": "python",
   "name": "python3"
  },
  "language_info": {
   "codemirror_mode": {
    "name": "ipython",
    "version": 3
   },
   "file_extension": ".py",
   "mimetype": "text/x-python",
   "name": "python",
   "nbconvert_exporter": "python",
   "pygments_lexer": "ipython3",
   "version": "3.13.2"
  }
 },
 "nbformat": 4,
 "nbformat_minor": 5
}
